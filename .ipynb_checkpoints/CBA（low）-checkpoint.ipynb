{
 "cells": [
  {
   "cell_type": "code",
   "execution_count": 1,
   "id": "a8a235a3-871f-400e-8e56-80f6b5edff2c",
   "metadata": {},
   "outputs": [
    {
     "name": "stdout",
     "output_type": "stream",
     "text": [
      "    support  itemsets\n",
      "0  0.666667      (尿布)\n",
      "1  0.666667      (牛奶)\n",
      "2  0.666667      (面包)\n",
      "3  0.500000  (牛奶, 尿布)\n",
      "4  0.500000  (面包, 尿布)\n",
      "  antecedents consequents  antecedent support  consequent support  support  \\\n",
      "0        (牛奶)        (尿布)            0.666667            0.666667      0.5   \n",
      "1        (尿布)        (牛奶)            0.666667            0.666667      0.5   \n",
      "2        (面包)        (尿布)            0.666667            0.666667      0.5   \n",
      "3        (尿布)        (面包)            0.666667            0.666667      0.5   \n",
      "\n",
      "   confidence   lift  leverage  conviction  zhangs_metric  \n",
      "0        0.75  1.125  0.055556    1.333333       0.333333  \n",
      "1        0.75  1.125  0.055556    1.333333       0.333333  \n",
      "2        0.75  1.125  0.055556    1.333333       0.333333  \n",
      "3        0.75  1.125  0.055556    1.333333       0.333333  \n"
     ]
    }
   ],
   "source": [
    "import pandas as pd\n",
    "from mlxtend.frequent_patterns import apriori, association_rules\n",
    "from mlxtend.preprocessing import TransactionEncoder\n",
    "\n",
    "# 假设你的数据集是一个列表的列表，每个内部列表代表一个事务\n",
    "data = [\n",
    "    ['牛奶', '面包', '尿布'],\n",
    "    ['可乐', '面包', '尿布'],\n",
    "    ['牛奶', '啤酒'],\n",
    "    ['牛奶', '尿布'],\n",
    "    ['面包', '可乐'],\n",
    "    ['牛奶', '面包', '尿布', '啤酒']\n",
    "]\n",
    "\n",
    "# 使用TransactionEncoder将数据转换为one-hot编码格式\n",
    "te = TransactionEncoder()\n",
    "te_ary = te.fit(data).transform(data)\n",
    "df = pd.DataFrame(te_ary, columns=te.columns_)\n",
    "\n",
    "# 使用apriori函数挖掘频繁项集\n",
    "frequent_itemsets = apriori(df, min_support=0.5, use_colnames=True)\n",
    "\n",
    "# 打印频繁项集\n",
    "print(frequent_itemsets)\n",
    "\n",
    "# 接下来，使用association_rules函数从频繁项集生成关联规则\n",
    "rules = association_rules(frequent_itemsets, metric=\"confidence\", min_threshold=0.7)\n",
    "\n",
    "# 打印关联规则\n",
    "print(rules)\n",
    "\n",
    "# 现在你有了一系列的关联规则，可以根据这些规则来进行分类预测\n",
    "# 例如，如果你有一个新事务，你可以检查这个事务中的物品是否与规则的前件匹配\n",
    "# 如果匹配，你可以预测这个事务可能包含规则的后件"
   ]
  },
  {
   "cell_type": "code",
   "execution_count": 31,
   "id": "cfa029d1-52e6-40dd-b80e-9d6cfec52fdf",
   "metadata": {},
   "outputs": [
    {
     "ename": "AttributeError",
     "evalue": "'frozenset' object has no attribute 'pop'",
     "output_type": "error",
     "traceback": [
      "\u001b[1;31m---------------------------------------------------------------------------\u001b[0m",
      "\u001b[1;31mAttributeError\u001b[0m                            Traceback (most recent call last)",
      "Cell \u001b[1;32mIn[31], line 52\u001b[0m\n\u001b[0;32m     49\u001b[0m \u001b[38;5;66;03m# 示例新事务\u001b[39;00m\n\u001b[0;32m     50\u001b[0m new_data \u001b[38;5;241m=\u001b[39m [\u001b[38;5;124m'\u001b[39m\u001b[38;5;124m牛奶\u001b[39m\u001b[38;5;124m'\u001b[39m]\n\u001b[1;32m---> 52\u001b[0m \u001b[38;5;28mprint\u001b[39m(\u001b[43mclassify_transaction\u001b[49m\u001b[43m(\u001b[49m\u001b[43mnew_data\u001b[49m\u001b[43m,\u001b[49m\u001b[43m \u001b[49m\u001b[43mrules\u001b[49m\u001b[43m,\u001b[49m\u001b[43m \u001b[49m\u001b[43mlabels\u001b[49m\u001b[43m)\u001b[49m)\n",
      "Cell \u001b[1;32mIn[31], line 45\u001b[0m, in \u001b[0;36mclassify_transaction\u001b[1;34m(new_transaction, rules, labels)\u001b[0m\n\u001b[0;32m     42\u001b[0m             classified_label \u001b[38;5;241m=\u001b[39m rule\u001b[38;5;241m.\u001b[39mconsequents\n\u001b[0;32m     44\u001b[0m \u001b[38;5;28;01mif\u001b[39;00m classified_label \u001b[38;5;129;01mis\u001b[39;00m \u001b[38;5;129;01mnot\u001b[39;00m \u001b[38;5;28;01mNone\u001b[39;00m:\n\u001b[1;32m---> 45\u001b[0m     \u001b[38;5;28;01mreturn\u001b[39;00m \u001b[43mclassified_label\u001b[49m\u001b[38;5;241;43m.\u001b[39;49m\u001b[43mpop\u001b[49m()  \u001b[38;5;66;03m# 返回分类结果\u001b[39;00m\n\u001b[0;32m     46\u001b[0m \u001b[38;5;28;01melse\u001b[39;00m:\n\u001b[0;32m     47\u001b[0m     \u001b[38;5;28;01mreturn\u001b[39;00m \u001b[38;5;124m'\u001b[39m\u001b[38;5;124mUnknown\u001b[39m\u001b[38;5;124m'\u001b[39m\n",
      "\u001b[1;31mAttributeError\u001b[0m: 'frozenset' object has no attribute 'pop'"
     ]
    }
   ],
   "source": [
    "import pandas as pd\n",
    "from mlxtend.frequent_patterns import apriori, association_rules\n",
    "from mlxtend.preprocessing import TransactionEncoder\n",
    "\n",
    "# 示例数据集，每个事务是一个列表，最后一个元素是类别标签\n",
    "data = [\n",
    "    ['牛奶', '面包', '尿布', '正面'],\n",
    "    ['牛奶', '面包', '尿布', '负面'],\n",
    "    ['牛奶', '面包', '正面'],\n",
    "    ['牛奶', '尿布', '正面'],\n",
    "    ['面包', '可乐', '负面'],\n",
    "    ['牛奶', '面包', '尿布', '啤酒', '正面'],\n",
    "    ['尿布', 'diss面']\n",
    "]\n",
    "\n",
    "# 分离特征和类别标签\n",
    "transactions = [transaction[:-1] for transaction in data]\n",
    "labels = [transaction[-1] for transaction in data]\n",
    "\n",
    "# 将事务数据转换为one-hot编码格式\n",
    "te = TransactionEncoder()\n",
    "te_ary = te.fit(transactions).transform(transactions)\n",
    "df = pd.DataFrame(te_ary, columns=te.columns_)\n",
    "\n",
    "# 使用apriori函数挖掘频繁项集\n",
    "frequent_itemsets = apriori(df, min_support=0.5, use_colnames=True)\n",
    "\n",
    "# 生成关联规则\n",
    "rules = association_rules(frequent_itemsets, metric=\"confidence\", min_threshold=0.7)\n",
    "\n",
    "# 定义一个函数，根据关联规则对新事务进行分类\n",
    "def classify_transaction(new_transaction, rules, labels):\n",
    "    max_confidence = 0\n",
    "    classified_label = None\n",
    "    \n",
    "    for rule in rules.itertuples():\n",
    "        # 检查新事务是否满足关联规则的前件\n",
    "        if all(item in new_transaction for item in rule.antecedents):\n",
    "            # 如果满足，则根据置信度更新分类结果\n",
    "            if rule.confidence > max_confidence:\n",
    "                max_confidence = rule.confidence\n",
    "                classified_label = rule.consequents\n",
    "\n",
    "    if classified_label is not None:\n",
    "        return classified_label.pop()  # 返回分类结果\n",
    "    else:\n",
    "        return 'Unknown'\n",
    "\n",
    "# 示例新事务\n",
    "new_data = ['牛奶']\n",
    "\n",
    "print(classify_transaction(new_data, rules, labels))\n"
   ]
  }
 ],
 "metadata": {
  "kernelspec": {
   "display_name": "Python 3 (ipykernel)",
   "language": "python",
   "name": "python3"
  },
  "language_info": {
   "codemirror_mode": {
    "name": "ipython",
    "version": 3
   },
   "file_extension": ".py",
   "mimetype": "text/x-python",
   "name": "python",
   "nbconvert_exporter": "python",
   "pygments_lexer": "ipython3",
   "version": "3.9.18"
  }
 },
 "nbformat": 4,
 "nbformat_minor": 5
}
