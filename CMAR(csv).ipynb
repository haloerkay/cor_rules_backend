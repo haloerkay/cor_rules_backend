{
 "cells": [
  {
   "cell_type": "code",
   "execution_count": 1,
   "id": "84d48524-4460-4889-ab6f-2147741e37f3",
   "metadata": {},
   "outputs": [],
   "source": [
    "from __future__ import annotations\n",
    "from collections import OrderedDict\n",
    "from ordered_set import OrderedSet\n",
    "from functools import cmp_to_key\n",
    "from typing import Optional\n",
    "from scipy.stats import chi2_contingency\n",
    "import numpy as np\n",
    "import csv"
   ]
  },
  {
   "cell_type": "code",
   "execution_count": 2,
   "id": "51119cbc-21b0-427d-9f5c-bcab47ed4bf8",
   "metadata": {},
   "outputs": [],
   "source": [
    "MINSUP = 10\n",
    "MINCONF = 0.65\n",
    "MAXCOVERAGE = 5\n",
    "CHISQTHRESHOLD = 0\n",
    "rules = []"
   ]
  },
  {
   "cell_type": "code",
   "execution_count": null,
   "id": "fd7bb688-66d8-4416-a688-d1eca32e1640",
   "metadata": {},
   "outputs": [],
   "source": []
  }
 ],
 "metadata": {
  "kernelspec": {
   "display_name": "Python 3 (ipykernel)",
   "language": "python",
   "name": "python3"
  },
  "language_info": {
   "codemirror_mode": {
    "name": "ipython",
    "version": 3
   },
   "file_extension": ".py",
   "mimetype": "text/x-python",
   "name": "python",
   "nbconvert_exporter": "python",
   "pygments_lexer": "ipython3",
   "version": "3.9.18"
  }
 },
 "nbformat": 4,
 "nbformat_minor": 5
}
